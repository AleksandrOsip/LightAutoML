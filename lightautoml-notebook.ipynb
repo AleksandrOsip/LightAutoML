{
 "cells": [
  {
   "cell_type": "markdown",
   "metadata": {
    "papermill": {
     "duration": 0.032379,
     "end_time": "2021-06-22T20:10:29.835505",
     "exception": false,
     "start_time": "2021-06-22T20:10:29.803126",
     "status": "completed"
    },
    "tags": []
   },
   "source": [
    "<img src=\"https://github.com/sberbank-ai-lab/LightAutoML/raw/master/imgs/LightAutoML_logo_big.png\" alt=\"LightAutoML logo\" style=\"width:70%;\"/>"
   ]
  },
  {
   "cell_type": "markdown",
   "metadata": {},
   "source": [
    "# LightAutoML baseline\n",
    "\n",
    "Official LightAutoML github repository is [here](https://github.com/sberbank-ai-lab/LightAutoML). \n",
    "\n",
    "### Do not forget to put upvote for the notebook and the ⭐️ for github repo if you like it - one click for you, great pleasure for us ☺️ "
   ]
  },
  {
   "cell_type": "markdown",
   "metadata": {},
   "source": [
    "## 0. Prerequisites"
   ]
  },
  {
   "cell_type": "markdown",
   "metadata": {},
   "source": [
    "### 0.0. install LightAutoML"
   ]
  },
  {
   "cell_type": "code",
   "execution_count": 1,
   "metadata": {
    "_kg_hide-output": true,
    "execution": {
     "iopub.execute_input": "2022-04-06T12:19:38.211743Z",
     "iopub.status.busy": "2022-04-06T12:19:38.211045Z",
     "iopub.status.idle": "2022-04-06T12:21:12.704836Z",
     "shell.execute_reply": "2022-04-06T12:21:12.703798Z",
     "shell.execute_reply.started": "2022-04-06T12:19:38.211642Z"
    },
    "papermill": {
     "duration": 23.023261,
     "end_time": "2021-06-22T20:10:52.955691",
     "exception": false,
     "start_time": "2021-06-22T20:10:29.93243",
     "status": "completed"
    },
    "scrolled": true,
    "tags": []
   },
   "outputs": [],
   "source": [
    "#%pip install -U lightautoml"
   ]
  },
  {
   "cell_type": "markdown",
   "metadata": {
    "papermill": {
     "duration": 0.066681,
     "end_time": "2021-06-22T20:10:53.090975",
     "exception": false,
     "start_time": "2021-06-22T20:10:53.024294",
     "status": "completed"
    },
    "tags": []
   },
   "source": [
    "### 0.1. Import libraries\n",
    "\n",
    "Here we will import the libraries we use in this kernel:\n",
    "- Standard python libraries for timing, working with OS etc.\n",
    "- Essential python DS libraries like numpy, pandas, scikit-learn and torch (the last we will use in the next cell)\n",
    "- LightAutoML modules: `TabularAutoML` preset for AutoML model creation and Task class to setup what kind of ML problem we solve (binary/multiclass classification or regression)"
   ]
  },
  {
   "cell_type": "code",
   "execution_count": 2,
   "metadata": {
    "execution": {
     "iopub.execute_input": "2022-04-06T12:52:51.407315Z",
     "iopub.status.busy": "2022-04-06T12:52:51.406526Z",
     "iopub.status.idle": "2022-04-06T12:52:51.414164Z",
     "shell.execute_reply": "2022-04-06T12:52:51.413019Z",
     "shell.execute_reply.started": "2022-04-06T12:52:51.407264Z"
    },
    "papermill": {
     "duration": 8.32949,
     "end_time": "2021-06-22T20:11:01.487788",
     "exception": false,
     "start_time": "2021-06-22T20:10:53.158298",
     "status": "completed"
    },
    "tags": []
   },
   "outputs": [],
   "source": [
    "# Standard python libraries\n",
    "import os\n",
    "import time"
   ]
  },
  {
   "cell_type": "code",
   "execution_count": 3,
   "metadata": {},
   "outputs": [],
   "source": [
    "# Essential DS libraries\n",
    "import numpy as np\n",
    "import pandas as pd\n",
    "from sklearn.metrics import mean_absolute_error\n",
    "from sklearn.model_selection import train_test_split\n",
    "import torch"
   ]
  },
  {
   "cell_type": "code",
   "execution_count": null,
   "metadata": {},
   "outputs": [],
   "source": [
    "# LightAutoML presets, task and report generation               #  Ядро умирает на первой строчке\n",
    "from lightautoml.automl.presets.tabular_presets import TabularAutoML\n",
    "from lightautoml.tasks import Task"
   ]
  },
  {
   "cell_type": "markdown",
   "metadata": {
    "papermill": {
     "duration": 0.064234,
     "end_time": "2021-06-22T20:11:01.61901",
     "exception": false,
     "start_time": "2021-06-22T20:11:01.554776",
     "status": "completed"
    },
    "tags": []
   },
   "source": [
    "### 0.2. Constants\n",
    "\n",
    "Here we setup the constants to use in the kernel:\n",
    "- `N_THREADS` - number of vCPUs for LightAutoML model creation\n",
    "- `N_FOLDS` - number of folds in LightAutoML inner CV\n",
    "- `RANDOM_STATE` - random seed for better reproducibility\n",
    "- `TEST_SIZE` - houldout data part size \n",
    "- `TIMEOUT` - limit in seconds for model to train\n",
    "- `TARGET_NAME` - target column name in dataset"
   ]
  },
  {
   "cell_type": "code",
   "execution_count": null,
   "metadata": {
    "execution": {
     "iopub.execute_input": "2022-04-06T12:53:14.865476Z",
     "iopub.status.busy": "2022-04-06T12:53:14.865173Z",
     "iopub.status.idle": "2022-04-06T12:53:14.871799Z",
     "shell.execute_reply": "2022-04-06T12:53:14.870527Z",
     "shell.execute_reply.started": "2022-04-06T12:53:14.865445Z"
    },
    "papermill": {
     "duration": 0.077787,
     "end_time": "2021-06-22T20:11:01.76103",
     "exception": false,
     "start_time": "2021-06-22T20:11:01.683243",
     "status": "completed"
    },
    "tags": []
   },
   "outputs": [],
   "source": [
    "N_THREADS = 4\n",
    "N_FOLDS = 5\n",
    "RANDOM_STATE = 42\n",
    "TEST_SIZE = 0.2\n",
    "TIMEOUT = 1200 # equal to 20 minutes\n",
    "TARGET_NAME = 'final_price'"
   ]
  },
  {
   "cell_type": "markdown",
   "metadata": {
    "papermill": {
     "duration": 0.086481,
     "end_time": "2021-06-22T20:11:01.927314",
     "exception": false,
     "start_time": "2021-06-22T20:11:01.840833",
     "status": "completed"
    },
    "tags": []
   },
   "source": [
    "### 0.3. Imported models setup\n",
    "\n",
    "For better reproducibility fix numpy random seed with max number of threads for Torch (which usually try to use all the threads on server):"
   ]
  },
  {
   "cell_type": "code",
   "execution_count": null,
   "metadata": {
    "execution": {
     "iopub.execute_input": "2022-04-06T12:53:19.363627Z",
     "iopub.status.busy": "2022-04-06T12:53:19.362825Z",
     "iopub.status.idle": "2022-04-06T12:53:19.371629Z",
     "shell.execute_reply": "2022-04-06T12:53:19.370236Z",
     "shell.execute_reply.started": "2022-04-06T12:53:19.363566Z"
    },
    "papermill": {
     "duration": 0.087268,
     "end_time": "2021-06-22T20:11:02.092497",
     "exception": false,
     "start_time": "2021-06-22T20:11:02.005229",
     "status": "completed"
    },
    "tags": []
   },
   "outputs": [],
   "source": [
    "np.random.seed(RANDOM_STATE)\n",
    "torch.set_num_threads(N_THREADS)"
   ]
  },
  {
   "cell_type": "markdown",
   "metadata": {
    "papermill": {
     "duration": 0.072033,
     "end_time": "2021-06-22T20:11:02.238196",
     "exception": false,
     "start_time": "2021-06-22T20:11:02.166163",
     "status": "completed"
    },
    "tags": []
   },
   "source": [
    "### 0.4. Data loading\n",
    "Let's check the data we have:"
   ]
  },
  {
   "cell_type": "code",
   "execution_count": null,
   "metadata": {
    "execution": {
     "iopub.execute_input": "2022-04-06T12:53:23.208962Z",
     "iopub.status.busy": "2022-04-06T12:53:23.20857Z",
     "iopub.status.idle": "2022-04-06T12:53:23.214937Z",
     "shell.execute_reply": "2022-04-06T12:53:23.213972Z",
     "shell.execute_reply.started": "2022-04-06T12:53:23.208923Z"
    }
   },
   "outputs": [],
   "source": [
    "INPUT_DIR = '../input/sf-dst-predict-car-price/'"
   ]
  },
  {
   "cell_type": "code",
   "execution_count": null,
   "metadata": {
    "execution": {
     "iopub.execute_input": "2022-04-06T12:53:26.230193Z",
     "iopub.status.busy": "2022-04-06T12:53:26.22895Z",
     "iopub.status.idle": "2022-04-06T12:53:26.366283Z",
     "shell.execute_reply": "2022-04-06T12:53:26.365356Z",
     "shell.execute_reply.started": "2022-04-06T12:53:26.230129Z"
    },
    "papermill": {
     "duration": 12.710747,
     "end_time": "2021-06-22T20:11:15.01836",
     "exception": false,
     "start_time": "2021-06-22T20:11:02.307613",
     "status": "completed"
    },
    "scrolled": true,
    "tags": []
   },
   "outputs": [],
   "source": [
    "train_data = pd.read_csv(INPUT_DIR + 'train_data.csv')\n",
    "print(train_data.shape)\n",
    "train_data.head()"
   ]
  },
  {
   "cell_type": "code",
   "execution_count": null,
   "metadata": {
    "execution": {
     "iopub.execute_input": "2022-04-06T12:53:30.926944Z",
     "iopub.status.busy": "2022-04-06T12:53:30.926361Z",
     "iopub.status.idle": "2022-04-06T12:53:30.975513Z",
     "shell.execute_reply": "2022-04-06T12:53:30.974371Z",
     "shell.execute_reply.started": "2022-04-06T12:53:30.926871Z"
    },
    "papermill": {
     "duration": 0.077509,
     "end_time": "2021-06-22T20:11:15.161419",
     "exception": false,
     "start_time": "2021-06-22T20:11:15.08391",
     "status": "completed"
    },
    "tags": []
   },
   "outputs": [],
   "source": [
    "test_data = pd.read_csv(INPUT_DIR + 'test_data.csv')\n",
    "print(test_data.shape)\n",
    "test_data.head()"
   ]
  },
  {
   "cell_type": "code",
   "execution_count": null,
   "metadata": {
    "execution": {
     "iopub.execute_input": "2022-04-06T12:53:36.716195Z",
     "iopub.status.busy": "2022-04-06T12:53:36.715867Z",
     "iopub.status.idle": "2022-04-06T12:53:36.735216Z",
     "shell.execute_reply": "2022-04-06T12:53:36.734247Z",
     "shell.execute_reply.started": "2022-04-06T12:53:36.716164Z"
    }
   },
   "outputs": [],
   "source": [
    "submission = pd.read_csv(INPUT_DIR + 'sample_submission.csv')\n",
    "print(submission.shape)\n",
    "submission.head()"
   ]
  },
  {
   "cell_type": "markdown",
   "metadata": {},
   "source": [
    "### Step 0.5. Some user feature preparation\n",
    "\n",
    "Be creative :)"
   ]
  },
  {
   "cell_type": "code",
   "execution_count": null,
   "metadata": {
    "execution": {
     "iopub.execute_input": "2022-04-06T12:53:41.114481Z",
     "iopub.status.busy": "2022-04-06T12:53:41.114114Z",
     "iopub.status.idle": "2022-04-06T12:53:41.120979Z",
     "shell.execute_reply": "2022-04-06T12:53:41.119991Z",
     "shell.execute_reply.started": "2022-04-06T12:53:41.114444Z"
    }
   },
   "outputs": [],
   "source": [
    "%%time\n",
    "\n",
    "def create_expert_feats(data):\n",
    "    pass\n",
    "\n",
    "create_expert_feats(train_data)\n",
    "create_expert_feats(test_data)"
   ]
  },
  {
   "cell_type": "markdown",
   "metadata": {},
   "source": [
    "### 0.6. Data splitting for train-holdout\n",
    "As we have only one file with target values, we can split it into 80%-20% for holdout usage:"
   ]
  },
  {
   "cell_type": "code",
   "execution_count": null,
   "metadata": {
    "execution": {
     "iopub.execute_input": "2022-04-06T12:53:45.703581Z",
     "iopub.status.busy": "2022-04-06T12:53:45.703214Z",
     "iopub.status.idle": "2022-04-06T12:53:45.74282Z",
     "shell.execute_reply": "2022-04-06T12:53:45.74177Z",
     "shell.execute_reply.started": "2022-04-06T12:53:45.703545Z"
    }
   },
   "outputs": [],
   "source": [
    "tr_data, te_data = train_test_split(\n",
    "    train_data, \n",
    "    test_size=TEST_SIZE, \n",
    "    random_state=RANDOM_STATE\n",
    ")\n",
    "\n",
    "print(f'Data splitted. Parts sizes: tr_data = {tr_data.shape}, te_data = {te_data.shape}')\n",
    "\n",
    "tr_data.head()"
   ]
  },
  {
   "cell_type": "markdown",
   "metadata": {
    "papermill": {
     "duration": 0.071526,
     "end_time": "2021-06-22T20:11:22.853156",
     "exception": false,
     "start_time": "2021-06-22T20:11:22.78163",
     "status": "completed"
    },
    "tags": []
   },
   "source": [
    "# 1. Task definition"
   ]
  },
  {
   "cell_type": "markdown",
   "metadata": {},
   "source": [
    "### 1.1. Task type\n",
    "\n",
    "On the cell below we create Task object - the class to setup what task LightAutoML model should solve with specific loss and metric if necessary (more info can be found [here](https://lightautoml.readthedocs.io/en/latest/generated/lightautoml.tasks.base.Task.html#lightautoml.tasks.base.Task) in our documentation):"
   ]
  },
  {
   "cell_type": "code",
   "execution_count": null,
   "metadata": {
    "execution": {
     "iopub.execute_input": "2022-04-06T12:53:52.358995Z",
     "iopub.status.busy": "2022-04-06T12:53:52.358653Z",
     "iopub.status.idle": "2022-04-06T12:53:52.365301Z",
     "shell.execute_reply": "2022-04-06T12:53:52.364569Z",
     "shell.execute_reply.started": "2022-04-06T12:53:52.358964Z"
    },
    "papermill": {
     "duration": 0.086442,
     "end_time": "2021-06-22T20:11:23.010643",
     "exception": false,
     "start_time": "2021-06-22T20:11:22.924201",
     "status": "completed"
    },
    "tags": []
   },
   "outputs": [],
   "source": [
    "task = Task('reg', loss = 'mae', metric = 'mae')"
   ]
  },
  {
   "cell_type": "markdown",
   "metadata": {
    "papermill": {
     "duration": 0.070103,
     "end_time": "2021-06-22T20:11:23.150929",
     "exception": false,
     "start_time": "2021-06-22T20:11:23.080826",
     "status": "completed"
    },
    "tags": []
   },
   "source": [
    "### 1.2. Feature roles setup"
   ]
  },
  {
   "cell_type": "markdown",
   "metadata": {
    "papermill": {
     "duration": 0.069372,
     "end_time": "2021-06-22T20:11:23.290153",
     "exception": false,
     "start_time": "2021-06-22T20:11:23.220781",
     "status": "completed"
    },
    "tags": []
   },
   "source": [
    "To solve the task, we need to setup columns roles. The **only role you must setup is target role**, everything else (drop, numeric, categorical, group, weights etc.) is up to user - LightAutoML models have automatic columns typization inside:"
   ]
  },
  {
   "cell_type": "code",
   "execution_count": null,
   "metadata": {
    "execution": {
     "iopub.execute_input": "2022-04-06T12:54:01.401741Z",
     "iopub.status.busy": "2022-04-06T12:54:01.401162Z",
     "iopub.status.idle": "2022-04-06T12:54:01.406367Z",
     "shell.execute_reply": "2022-04-06T12:54:01.405494Z",
     "shell.execute_reply.started": "2022-04-06T12:54:01.401685Z"
    },
    "papermill": {
     "duration": 0.07715,
     "end_time": "2021-06-22T20:11:23.43883",
     "exception": false,
     "start_time": "2021-06-22T20:11:23.36168",
     "status": "completed"
    },
    "tags": []
   },
   "outputs": [],
   "source": [
    "roles = {\n",
    "    'target': TARGET_NAME,\n",
    "    'drop': ['row_ID']\n",
    "}"
   ]
  },
  {
   "cell_type": "markdown",
   "metadata": {
    "papermill": {
     "duration": 0.074284,
     "end_time": "2021-06-22T20:11:23.582462",
     "exception": false,
     "start_time": "2021-06-22T20:11:23.508178",
     "status": "completed"
    },
    "tags": []
   },
   "source": [
    "### 1.3. LightAutoML model creation - TabularAutoML preset"
   ]
  },
  {
   "cell_type": "markdown",
   "metadata": {
    "papermill": {
     "duration": 0.072649,
     "end_time": "2021-06-22T20:11:23.726154",
     "exception": false,
     "start_time": "2021-06-22T20:11:23.653505",
     "status": "completed"
    },
    "tags": []
   },
   "source": [
    "In next the cell we are going to create LightAutoML model with `TabularAutoML` class - preset with default model structure like in the image below:\n",
    "\n",
    "<img src=\"https://github.com/sberbank-ai-lab/LightAutoML/raw/master/imgs/tutorial_blackbox_pipeline.png\" alt=\"TabularAutoML preset pipeline\" style=\"width:85%;\"/>\n",
    "\n",
    "in just several lines. Let's discuss the params we can setup:\n",
    "- `task` - the type of the ML task (the only **must have** parameter)\n",
    "- `timeout` - time limit in seconds for model to train\n",
    "- `cpu_limit` - vCPU count for model to use\n",
    "- `reader_params` - parameter change for Reader object inside preset, which works on the first step of data preparation: automatic feature typization, preliminary almost-constant features, correct CV setup etc. For example, we setup `n_jobs` threads for typization algo, `cv` folds and `random_state` as inside CV seed.\n",
    "\n",
    "**Important note**: `reader_params` key is one of the YAML config keys, which is used inside `TabularAutoML` preset. [More details](https://github.com/sberbank-ai-lab/LightAutoML/blob/master/lightautoml/automl/presets/tabular_config.yml) on its structure with explanation comments can be found on the link attached. Each key from this config can be modified with user settings during preset object initialization. To get more info about different parameters setting (for example, ML algos which can be used in `general_params->use_algos`) please take a look at our [article on TowardsDataScience](https://towardsdatascience.com/lightautoml-preset-usage-tutorial-2cce7da6f936).\n",
    "\n",
    "Moreover, to receive the automatic report for our model we can use `ReportDeco` decorator and work with the decorated version in the same way as we do with usual one (more details in [this tutorial](https://github.com/sberbank-ai-lab/LightAutoML/blob/master/examples/tutorials/Tutorial_1_basics.ipynb))"
   ]
  },
  {
   "cell_type": "code",
   "execution_count": null,
   "metadata": {
    "execution": {
     "iopub.execute_input": "2022-04-06T12:54:08.234708Z",
     "iopub.status.busy": "2022-04-06T12:54:08.234386Z",
     "iopub.status.idle": "2022-04-06T12:54:08.305881Z",
     "shell.execute_reply": "2022-04-06T12:54:08.304714Z",
     "shell.execute_reply.started": "2022-04-06T12:54:08.234665Z"
    }
   },
   "outputs": [],
   "source": [
    "automl = TabularAutoML(\n",
    "    task = task, \n",
    "    timeout = TIMEOUT,\n",
    "    cpu_limit = N_THREADS,\n",
    "    reader_params = {'n_jobs': N_THREADS, 'cv': N_FOLDS, 'random_state': RANDOM_STATE}\n",
    ")"
   ]
  },
  {
   "cell_type": "markdown",
   "metadata": {},
   "source": [
    "# 2. AutoML training"
   ]
  },
  {
   "cell_type": "markdown",
   "metadata": {},
   "source": [
    "To run autoML training use fit_predict method:\n",
    "- `train_data` - Dataset to train.\n",
    "- `roles` - Roles dict.\n",
    "- `verbose` - Controls the verbosity: the higher, the more messages.\n",
    "        <1  : messages are not displayed;\n",
    "        >=1 : the computation process for layers is displayed;\n",
    "        >=2 : the information about folds processing is also displayed;\n",
    "        >=3 : the hyperparameters optimization process is also displayed;\n",
    "        >=4 : the training process for every algorithm is displayed;\n",
    "\n",
    "Note: out-of-fold prediction is calculated during training and returned from the fit_predict method"
   ]
  },
  {
   "cell_type": "code",
   "execution_count": null,
   "metadata": {
    "execution": {
     "iopub.execute_input": "2022-04-06T12:54:14.624679Z",
     "iopub.status.busy": "2022-04-06T12:54:14.624308Z",
     "iopub.status.idle": "2022-04-06T13:06:59.409816Z",
     "shell.execute_reply": "2022-04-06T13:06:59.408295Z",
     "shell.execute_reply.started": "2022-04-06T12:54:14.624645Z"
    },
    "scrolled": true
   },
   "outputs": [],
   "source": [
    "%%time \n",
    "oof_pred = automl.fit_predict(tr_data, roles = roles, verbose = 1)"
   ]
  },
  {
   "cell_type": "code",
   "execution_count": null,
   "metadata": {
    "execution": {
     "iopub.execute_input": "2022-04-06T13:07:17.121622Z",
     "iopub.status.busy": "2022-04-06T13:07:17.121286Z",
     "iopub.status.idle": "2022-04-06T13:07:17.128861Z",
     "shell.execute_reply": "2022-04-06T13:07:17.128054Z",
     "shell.execute_reply.started": "2022-04-06T13:07:17.121591Z"
    }
   },
   "outputs": [],
   "source": [
    "print(automl.create_model_str_desc())"
   ]
  },
  {
   "cell_type": "markdown",
   "metadata": {
    "papermill": {
     "duration": 0.145098,
     "end_time": "2021-06-22T20:34:32.530768",
     "exception": false,
     "start_time": "2021-06-22T20:34:32.38567",
     "status": "completed"
    },
    "tags": []
   },
   "source": [
    "# 3. Prediction on holdout and model evaluation\n",
    "\n",
    "We now have the trained model called `automl` and it's time to see what MAE score it can receive on train and holdout data:"
   ]
  },
  {
   "cell_type": "code",
   "execution_count": null,
   "metadata": {
    "execution": {
     "iopub.execute_input": "2022-04-06T13:07:24.961539Z",
     "iopub.status.busy": "2022-04-06T13:07:24.961236Z",
     "iopub.status.idle": "2022-04-06T13:07:28.41872Z",
     "shell.execute_reply": "2022-04-06T13:07:28.4172Z",
     "shell.execute_reply.started": "2022-04-06T13:07:24.961505Z"
    }
   },
   "outputs": [],
   "source": [
    "%%time\n",
    "\n",
    "te_pred = automl.predict(te_data)\n",
    "print(f'Prediction for te_data:\\n{te_pred}\\nShape = {te_pred.shape}')"
   ]
  },
  {
   "cell_type": "code",
   "execution_count": null,
   "metadata": {
    "execution": {
     "iopub.execute_input": "2022-04-06T13:07:33.316782Z",
     "iopub.status.busy": "2022-04-06T13:07:33.315696Z",
     "iopub.status.idle": "2022-04-06T13:07:33.326884Z",
     "shell.execute_reply": "2022-04-06T13:07:33.32599Z",
     "shell.execute_reply.started": "2022-04-06T13:07:33.316724Z"
    }
   },
   "outputs": [],
   "source": [
    "print(f'TRAIN out-of-fold score: {mean_absolute_error(tr_data[TARGET_NAME].values, oof_pred.data[:, 0])}')\n",
    "print(f'HOLDOUT score: {mean_absolute_error(te_data[TARGET_NAME].values, te_pred.data[:, 0])}')"
   ]
  },
  {
   "cell_type": "markdown",
   "metadata": {},
   "source": [
    "## 4. Feature importances calculation \n",
    "\n",
    "For feature importances calculation we have 2 different methods in LightAutoML:\n",
    "- Fast (`fast`) - this method uses feature importances from feature selector LGBM model inside LightAutoML. It works extremely fast and almost always (almost because of situations, when feature selection is turned off or selector was removed from the final models with all GBM models). no need to use new labelled data.\n",
    "- Accurate (`accurate`) - this method calculate *features permutation importances* for the whole LightAutoML model based on the **new labelled data**. It always works but can take a lot of time to finish (depending on the model structure, new labelled dataset size etc.)."
   ]
  },
  {
   "cell_type": "code",
   "execution_count": null,
   "metadata": {
    "execution": {
     "iopub.execute_input": "2022-04-06T13:07:37.6467Z",
     "iopub.status.busy": "2022-04-06T13:07:37.64551Z",
     "iopub.status.idle": "2022-04-06T13:07:38.020658Z",
     "shell.execute_reply": "2022-04-06T13:07:38.01976Z",
     "shell.execute_reply.started": "2022-04-06T13:07:37.646654Z"
    }
   },
   "outputs": [],
   "source": [
    "%%time\n",
    "\n",
    "# Fast feature importances calculation\n",
    "fast_fi = automl.get_feature_scores('fast')\n",
    "fast_fi.set_index('Feature')['Importance'].plot.bar(figsize = (30, 10), grid = True)"
   ]
  },
  {
   "cell_type": "code",
   "execution_count": null,
   "metadata": {
    "execution": {
     "iopub.execute_input": "2022-04-06T13:07:44.980816Z",
     "iopub.status.busy": "2022-04-06T13:07:44.98046Z",
     "iopub.status.idle": "2022-04-06T13:08:33.389053Z",
     "shell.execute_reply": "2022-04-06T13:08:33.387946Z",
     "shell.execute_reply.started": "2022-04-06T13:07:44.98078Z"
    }
   },
   "outputs": [],
   "source": [
    "%%time\n",
    "\n",
    "# Accurate feature importances calculation (Permutation importances) -  can take long time to calculate on bigger datasets\n",
    "accurate_fi = automl.get_feature_scores('accurate', te_data, silent = False)"
   ]
  },
  {
   "cell_type": "code",
   "execution_count": null,
   "metadata": {
    "execution": {
     "iopub.execute_input": "2022-04-06T13:08:40.538606Z",
     "iopub.status.busy": "2022-04-06T13:08:40.538255Z",
     "iopub.status.idle": "2022-04-06T13:08:40.94851Z",
     "shell.execute_reply": "2022-04-06T13:08:40.947718Z",
     "shell.execute_reply.started": "2022-04-06T13:08:40.53857Z"
    }
   },
   "outputs": [],
   "source": [
    "accurate_fi.set_index('Feature')['Importance'].plot.bar(figsize = (30, 10), grid = True)"
   ]
  },
  {
   "cell_type": "markdown",
   "metadata": {},
   "source": [
    "# 5. Predict for test dataset\n",
    "\n",
    "We are also ready to predict for our test competition dataset and submission file creation:"
   ]
  },
  {
   "cell_type": "code",
   "execution_count": null,
   "metadata": {
    "execution": {
     "iopub.execute_input": "2022-04-06T13:08:50.842419Z",
     "iopub.status.busy": "2022-04-06T13:08:50.841277Z",
     "iopub.status.idle": "2022-04-06T13:08:56.064069Z",
     "shell.execute_reply": "2022-04-06T13:08:56.062706Z",
     "shell.execute_reply.started": "2022-04-06T13:08:50.842375Z"
    }
   },
   "outputs": [],
   "source": [
    "test_pred = automl.predict(test_data)\n",
    "print(f'Prediction for te_data:\\n{test_pred}\\nShape = {test_pred.shape}')"
   ]
  },
  {
   "cell_type": "code",
   "execution_count": null,
   "metadata": {
    "execution": {
     "iopub.execute_input": "2022-04-06T13:09:04.825276Z",
     "iopub.status.busy": "2022-04-06T13:09:04.824956Z",
     "iopub.status.idle": "2022-04-06T13:09:04.867366Z",
     "shell.execute_reply": "2022-04-06T13:09:04.866573Z",
     "shell.execute_reply.started": "2022-04-06T13:09:04.825244Z"
    }
   },
   "outputs": [],
   "source": [
    "submission[TARGET_NAME] = test_pred.data[:, 0]\n",
    "submission.to_csv('lightautoml_tabularautoml.csv', index = False)"
   ]
  },
  {
   "cell_type": "markdown",
   "metadata": {
    "papermill": {
     "duration": 0.14221,
     "end_time": "2021-06-22T20:35:48.782561",
     "exception": false,
     "start_time": "2021-06-22T20:35:48.640351",
     "status": "completed"
    },
    "tags": []
   },
   "source": [
    "# Additional materials"
   ]
  },
  {
   "cell_type": "markdown",
   "metadata": {
    "papermill": {
     "duration": 0.147943,
     "end_time": "2021-06-22T20:35:49.074531",
     "exception": false,
     "start_time": "2021-06-22T20:35:48.926588",
     "status": "completed"
    },
    "tags": []
   },
   "source": [
    "- [Official LightAutoML github repo](https://github.com/sberbank-ai-lab/LightAutoML)\n",
    "- [LightAutoML documentation](https://lightautoml.readthedocs.io/en/latest)\n",
    "- [LightAutoML tutorials](https://github.com/sberbank-ai-lab/LightAutoML/tree/master/examples/tutorials)\n",
    "- LightAutoML course:\n",
    "    - [Part 1 - general overview](https://ods.ai/tracks/automl-course-part1) \n",
    "    - [Part 2 - LightAutoML specific applications](https://ods.ai/tracks/automl-course-part2)\n",
    "- [OpenDataScience AutoML benchmark leaderboard](https://ods.ai/competitions/automl-benchmark/leaderboard)"
   ]
  }
 ],
 "metadata": {
  "kernelspec": {
   "display_name": "Python 3",
   "language": "python",
   "name": "python3"
  },
  "language_info": {
   "codemirror_mode": {
    "name": "ipython",
    "version": 3
   },
   "file_extension": ".py",
   "mimetype": "text/x-python",
   "name": "python",
   "nbconvert_exporter": "python",
   "pygments_lexer": "ipython3",
   "version": "3.8.8"
  }
 },
 "nbformat": 4,
 "nbformat_minor": 4
}
